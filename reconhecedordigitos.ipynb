{
  "nbformat": 4,
  "nbformat_minor": 0,
  "metadata": {
    "colab": {
      "name": "exercicio.ipynb",
      "provenance": [],
      "authorship_tag": "ABX9TyP9aIKW57FEDaT9tSq7j9sH",
      "include_colab_link": true
    },
    "kernelspec": {
      "name": "python3",
      "display_name": "Python 3"
    },
    "language_info": {
      "name": "python"
    }
  },
  "cells": [
    {
      "cell_type": "markdown",
      "metadata": {
        "id": "view-in-github",
        "colab_type": "text"
      },
      "source": [
        "<a href=\"https://colab.research.google.com/github/pxpc2/aprendizadodemaquina-unb/blob/main/reconhecedordigitos.ipynb\" target=\"_parent\"><img src=\"https://colab.research.google.com/assets/colab-badge.svg\" alt=\"Open In Colab\"/></a>"
      ]
    },
    {
      "cell_type": "code",
      "execution_count": 5,
      "metadata": {
        "id": "yO-GFYx9xMJt"
      },
      "outputs": [],
      "source": [
        "# Exercício de treinamento, criacao de um modelo reconhecedor dos digitos 3 e 7\n",
        "\n",
        "#hide\n",
        "! [ -e /content ] && pip install -Uqq fastbook\n",
        "import fastbook\n",
        "fastbook.setup_book()\n",
        "from fastbook import *\n",
        "from fastai.vision.widgets import *\n",
        "\n",
        "matplotlib.rc('image', cmap='Greys') # para mostrar tudo cinza os vetores"
      ]
    },
    {
      "cell_type": "code",
      "source": [
        "path = untar_data(URLs.MNIST_SAMPLE) # esse sample do reconhecedor universal só tem 3s e 7s\n",
        "Path.BASE_PATH = path\n",
        "threes = (path/'train'/'3').ls().sorted()\n",
        "sevens = (path/'train'/'7').ls().sorted()\n",
        "# podemos criar um Pytorch tensor pra representar a img, é um array do numpy injetavel na GPU\n",
        "# imgTensor = tensor(Image.open(threes[0]))"
      ],
      "metadata": {
        "id": "AkhAVSR-YX94"
      },
      "execution_count": 7,
      "outputs": []
    },
    {
      "cell_type": "code",
      "source": [
        "# Criar listas para guardar todos os setes e os tres\n",
        "sevenTensors = [tensor(Image.open(i)) for i in sevens]\n",
        "threeTensors = [tensor(Image.open(i)) for i in threes]\n",
        "\n",
        "# como nos temos listas, não é util para fazer computacoes matematicas\n",
        "# um tensor pode ter vários \"eixos/dimensões\"\n",
        "# podemos pegar a lista de imgs e \"stackar\" uma em cima da outra\n",
        "# criando uma espécie de cubo 3D, com o qual dá pra fazer os calculos\n",
        "stackedSevens = torch.stack(sevenTensors).float() / 255 # divide por 255 pq imagem tem 255 pixels\n",
        "stackedThrees = torch.stack(threeTensors).float() / 255 # mas quando sao img como um float, valores de pixels sao entre 0 e 1\n",
        "# NOMENCLATURA IMPORTANTE #\n",
        "# rank = dimensoes de um tensor #\n",
        "# shape = tamanho de cada dimensao #"
      ],
      "metadata": {
        "id": "zgloJSt0ge2V"
      },
      "execution_count": 8,
      "outputs": []
    },
    {
      "cell_type": "code",
      "source": [
        "# Precisamos medir proximidade de pixels (distância), para comparar os números com a média\n",
        "# L2 Form: pega o quadrado das diferencas e dps tira a raiz\n",
        "\n",
        "a = stackedThrees[0] # vamos ver a distância desse 3 para a média do 3 e pro 7\n",
        "\n",
        "distThree = ((a - stackedThrees.mean(0))**2).mean().sqrt()\n",
        "distSeven = ((a - stackedSevens.mean(0))**2).mean().sqrt()\n",
        "\n",
        "# e agora baseado na distância, dizer se o 3 escolhido é um 3 ou um 7\n",
        "if (distThree < distSeven):\n",
        "  print('é um 3')\n",
        "else: \n",
        "  print('é um 7')\n",
        "\n",
        "# Essa já é uma BASELINE válida para o modelo, é bem simples mas é sólida"
      ],
      "metadata": {
        "colab": {
          "base_uri": "https://localhost:8080/"
        },
        "id": "HADZ4vK_oxH6",
        "outputId": "f61ff213-ca57-4c89-80ce-c81ea970cdd7"
      },
      "execution_count": 16,
      "outputs": [
        {
          "output_type": "stream",
          "name": "stdout",
          "text": [
            "é um 3\n"
          ]
        }
      ]
    }
  ]
}