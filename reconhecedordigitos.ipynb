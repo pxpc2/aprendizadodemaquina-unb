{
  "nbformat": 4,
  "nbformat_minor": 0,
  "metadata": {
    "colab": {
      "name": "exercicio.ipynb",
      "provenance": []
    },
    "kernelspec": {
      "name": "python3",
      "display_name": "Python 3"
    },
    "language_info": {
      "name": "python"
    }
  },
  "cells": [
    {
      "cell_type": "code",
      "execution_count": 1,
      "metadata": {
        "id": "yO-GFYx9xMJt",
        "colab": {
          "base_uri": "https://localhost:8080/"
        },
        "outputId": "9d08e7cf-7481-488b-a88b-a29178441ecd"
      },
      "outputs": [
        {
          "output_type": "stream",
          "name": "stdout",
          "text": [
            "\u001b[K     |████████████████████████████████| 719 kB 7.8 MB/s \n",
            "\u001b[K     |████████████████████████████████| 362 kB 65.5 MB/s \n",
            "\u001b[K     |████████████████████████████████| 1.2 MB 42.3 MB/s \n",
            "\u001b[K     |████████████████████████████████| 4.4 MB 52.4 MB/s \n",
            "\u001b[K     |████████████████████████████████| 1.1 MB 51.0 MB/s \n",
            "\u001b[K     |████████████████████████████████| 101 kB 13.3 MB/s \n",
            "\u001b[K     |████████████████████████████████| 212 kB 26.8 MB/s \n",
            "\u001b[K     |████████████████████████████████| 140 kB 30.9 MB/s \n",
            "\u001b[K     |████████████████████████████████| 596 kB 46.3 MB/s \n",
            "\u001b[K     |████████████████████████████████| 127 kB 49.3 MB/s \n",
            "\u001b[K     |████████████████████████████████| 271 kB 46.2 MB/s \n",
            "\u001b[K     |████████████████████████████████| 94 kB 2.1 MB/s \n",
            "\u001b[K     |████████████████████████████████| 144 kB 45.1 MB/s \n",
            "\u001b[K     |████████████████████████████████| 6.6 MB 42.0 MB/s \n",
            "\u001b[31mERROR: pip's dependency resolver does not currently take into account all the packages that are installed. This behaviour is the source of the following dependency conflicts.\n",
            "datascience 0.10.6 requires folium==0.2.1, but you have folium 0.8.3 which is incompatible.\u001b[0m\n",
            "\u001b[?25hMounted at /content/gdrive\n"
          ]
        }
      ],
      "source": [
        "# Exercício de treinamento, criacao de um modelo reconhecedor dos digitos 3 e 7\n",
        "\n",
        "#hide\n",
        "! [ -e /content ] && pip install -Uqq fastbook\n",
        "import fastbook\n",
        "fastbook.setup_book()\n",
        "from fastbook import *\n",
        "from fastai.vision.widgets import *\n",
        "from fastai.vision.all import *\n",
        "\n",
        "matplotlib.rc('image', cmap='Greys') # para mostrar tudo cinza os vetores"
      ]
    },
    {
      "cell_type": "code",
      "source": [
        "path = untar_data(URLs.MNIST_SAMPLE) # esse sample do reconhecedor universal só tem 3s e 7s\n",
        "Path.BASE_PATH = path\n",
        "threes = (path/'train'/'3').ls().sorted()\n",
        "sevens = (path/'train'/'7').ls().sorted()\n",
        "# podemos criar um Pytorch tensor pra representar a img, é um array do numpy injetavel na GPU\n",
        "# imgTensor = tensor(Image.open(threes[0]))"
      ],
      "metadata": {
        "id": "AkhAVSR-YX94",
        "colab": {
          "base_uri": "https://localhost:8080/",
          "height": 37
        },
        "outputId": "adb22915-1ded-4318-da90-034999943bdf"
      },
      "execution_count": 2,
      "outputs": [
        {
          "output_type": "display_data",
          "data": {
            "text/plain": [
              "<IPython.core.display.HTML object>"
            ],
            "text/html": [
              "\n",
              "<style>\n",
              "    /* Turns off some styling */\n",
              "    progress {\n",
              "        /* gets rid of default border in Firefox and Opera. */\n",
              "        border: none;\n",
              "        /* Needs to be in here for Safari polyfill so background images work as expected. */\n",
              "        background-size: auto;\n",
              "    }\n",
              "    .progress-bar-interrupted, .progress-bar-interrupted::-webkit-progress-bar {\n",
              "        background: #F44336;\n",
              "    }\n",
              "</style>\n"
            ]
          },
          "metadata": {}
        },
        {
          "output_type": "display_data",
          "data": {
            "text/plain": [
              "<IPython.core.display.HTML object>"
            ],
            "text/html": [
              "\n",
              "    <div>\n",
              "      <progress value='3219456' class='' max='3214948' style='width:300px; height:20px; vertical-align: middle;'></progress>\n",
              "      100.14% [3219456/3214948 00:00<00:00]\n",
              "    </div>\n",
              "    "
            ]
          },
          "metadata": {}
        }
      ]
    },
    {
      "cell_type": "code",
      "source": [
        "# Criar listas para guardar todos os setes e os tres\n",
        "sevenTensors = [tensor(Image.open(i)) for i in sevens]\n",
        "threeTensors = [tensor(Image.open(i)) for i in threes]\n",
        "\n",
        "# como nos temos listas, não é util para fazer computacoes matematicas\n",
        "# um tensor pode ter vários \"eixos/dimensões\"\n",
        "# podemos pegar a lista de imgs e \"stackar\" uma em cima da outra\n",
        "# criando uma espécie de cubo 3D, com o qual dá pra fazer os calculos\n",
        "stackedSevens = torch.stack(sevenTensors).float() / 255 # divide por 255 pq imagem tem 255 pixels\n",
        "stackedThrees = torch.stack(threeTensors).float() / 255 # mas quando sao img como um float, valores de pixels sao entre 0 e 1\n",
        "# NOMENCLATURA IMPORTANTE #\n",
        "# rank = dimensoes de um tensor #\n",
        "# shape = tamanho de cada dimensao #"
      ],
      "metadata": {
        "id": "zgloJSt0ge2V"
      },
      "execution_count": 3,
      "outputs": []
    },
    {
      "cell_type": "code",
      "source": [
        "# Precisamos medir proximidade de pixels (distância), para comparar os números com a média\n",
        "# L2 Form: pega a MEAN do quadrado das diferencas e dps tira a raiz de tudo\n",
        "\n",
        "a = stackedThrees[0] # vamos ver a distância desse 3 para a média do 3 e pro 7\n",
        "\n",
        "distThree = ((a - stackedThrees.mean(0))**2).mean().sqrt()\n",
        "distSeven = ((a - stackedSevens.mean(0))**2).mean().sqrt()\n",
        "\n",
        "# e agora baseado na distância, dizer se o 3 escolhido é um 3 ou um 7\n",
        "if (distThree < distSeven):\n",
        "  print('é um 3')\n",
        "else: \n",
        "  print('é um 7')\n",
        "\n",
        "# Essa já é uma BASELINE válida para o modelo, é bem simples mas é sólida"
      ],
      "metadata": {
        "colab": {
          "base_uri": "https://localhost:8080/"
        },
        "id": "HADZ4vK_oxH6",
        "outputId": "818efabe-18b8-47fe-f92b-c7cc7f818168"
      },
      "execution_count": 19,
      "outputs": [
        {
          "output_type": "stream",
          "name": "stdout",
          "text": [
            "tensor(0.1912)\n",
            "tensor(0.2780)\n"
          ]
        }
      ]
    },
    {
      "cell_type": "code",
      "source": [
        "# pegar a validation set\n",
        "threeValidImg = (path/'valid'/'3').ls().sorted()\n",
        "sevenValidImg = (path/'valid'/'7').ls().sorted()\n",
        "threeValidationTensors = [tensor(Image.open(i)) for i in threeValidImg]\n",
        "sevenValidationTensors = [tensor(Image.open(i)) for i in sevenValidImg]\n",
        "\n",
        "# stackar tb\n",
        "three_stackedValidation = torch.stack(threeValidationTensors).float() / 255\n",
        "seven_stackedValidation = torch.stack(sevenValidationTensors).float() / 255\n",
        "\n",
        "# len(threeValidImg), len(threes) # validation set / training set\n",
        "# three_stackedValidation.shape() # bom habito checar a shape dos tensores\n",
        "\n",
        "def mnsit_dist(a, b):\n",
        "  return ((a-b)**2).mean((-1,-2)).sqrt() ## eixos (-1, -2) é importante ser definido\n",
        "  #eixos -1 e -2 são os horizontal e vertical da img\n",
        "\n",
        "# mnsit_dist(three_stackedValidation, stackedThrees.mean(0))\n",
        "# essa chamada nao reclamaria de diferenca em shape, retornaria o calculo da dist\n",
        "# para todos dentro do three_stackedValidation em relacao ao 3 ideal\n",
        "# nome disso é BROADCASTING, o pytorch altera o rank de um tensor para um cálculo com tensor de rank diferente"
      ],
      "metadata": {
        "colab": {
          "base_uri": "https://localhost:8080/"
        },
        "id": "yoHqQcw6oTEC",
        "outputId": "ad54ae9a-11fc-490f-c723-9ee3e22af42b"
      },
      "execution_count": 26,
      "outputs": [
        {
          "output_type": "execute_result",
          "data": {
            "text/plain": [
              "(torch.Size([28, 28]), torch.Size([1010, 28, 28]))"
            ]
          },
          "metadata": {},
          "execution_count": 26
        }
      ]
    },
    {
      "cell_type": "code",
      "source": [
        "# fc p/ definir se é um 3 ou 7\n",
        "def isThree(a):\n",
        "  return mnsit_dist(a, stackedThrees.mean(0)) < mnsit_dist(a, stackedSevens.mean(0))\n",
        "\n",
        "# obs: ao converter bool return pra float, é 1.0 p true e 0.0 p false\n",
        "# vamos calcular a accuracy, a precisão\n",
        "acc_threes = isThree(three_stackedValidation).float().mean()\n",
        "acc_sevens = 1 - (isThree(seven_stackedValidation).float().mean())\n",
        "acc_threes, acc_sevens"
      ],
      "metadata": {
        "colab": {
          "base_uri": "https://localhost:8080/"
        },
        "id": "LSd7iFJ8u61F",
        "outputId": "0fb8a3ec-a1c5-4760-d153-53996130abdc"
      },
      "execution_count": 33,
      "outputs": [
        {
          "output_type": "execute_result",
          "data": {
            "text/plain": [
              "(tensor(0.9584), tensor(0.9737))"
            ]
          },
          "metadata": {},
          "execution_count": 33
        }
      ]
    },
    {
      "cell_type": "code",
      "source": [
        "# (tensor(0.9584), tensor(0.9737)) FOI O OUTPUT\n",
        "# ou seja, precisão de 95% para os 3 e 97% para os 7\n",
        "# bom resultado! Mas são só 2 numeros, e sao bem diferentes, entao precisa melhorar muito mais!"
      ],
      "metadata": {
        "id": "ntMC_Q8HyPYZ"
      },
      "execution_count": null,
      "outputs": []
    }
  ]
}