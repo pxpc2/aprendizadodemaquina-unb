{
  "nbformat": 4,
  "nbformat_minor": 0,
  "metadata": {
    "colab": {
      "name": "imgclassifier.ipynb",
      "provenance": [],
      "collapsed_sections": []
    },
    "kernelspec": {
      "name": "python3",
      "display_name": "Python 3"
    },
    "language_info": {
      "name": "python"
    },
    "accelerator": "GPU",
    "gpuClass": "standard"
  },
  "cells": [
    {
      "cell_type": "markdown",
      "source": [
        "### Pedro Daia Cardoso\n",
        "\n",
        "Exercício de treinamento, modelo para distinguir entre a raca de diferentes animais"
      ],
      "metadata": {
        "id": "wf6UEag2-UJw"
      }
    },
    {
      "cell_type": "code",
      "execution_count": 7,
      "metadata": {
        "id": "JBexiSS54wCd"
      },
      "outputs": [],
      "source": [
        "! [ -e /content ] && pip install -Uqq fastbook\n",
        "import fastbook\n",
        "fastbook.setup_book()\n",
        "from fastbook import *\n",
        "from fastai.vision.all import *"
      ]
    },
    {
      "cell_type": "code",
      "source": [
        "path = untar_data(URLs.PETS)\n",
        "Path.BASE_PATH = path\n",
        "#path.ls()\n",
        "(path/\"images\").ls()"
      ],
      "metadata": {
        "colab": {
          "base_uri": "https://localhost:8080/"
        },
        "id": "fiiKPELA_YxL",
        "outputId": "803945b4-d62c-4c69-b7a4-1c66f04ca2a7"
      },
      "execution_count": 8,
      "outputs": [
        {
          "output_type": "execute_result",
          "data": {
            "text/plain": [
              "(#7393) [Path('images/Maine_Coon_182.jpg'),Path('images/wheaten_terrier_57.jpg'),Path('images/leonberger_177.jpg'),Path('images/Egyptian_Mau_109.jpg'),Path('images/english_cocker_spaniel_52.jpg'),Path('images/Ragdoll_163.jpg'),Path('images/newfoundland_191.jpg'),Path('images/boxer_12.jpg'),Path('images/beagle_86.jpg'),Path('images/pomeranian_126.jpg')...]"
            ]
          },
          "metadata": {},
          "execution_count": 8
        }
      ]
    },
    {
      "cell_type": "markdown",
      "source": [
        "output:\n",
        "\n",
        "```\n",
        "(#2) [Path('images'),Path('annotations')]\n",
        "\n",
        "(#7393) [Path('images/Maine_Coon_182.jpg'),Path('images/wheaten_terrier_57.jpg'),Path('images/leonberger_177.jpg'),Path('images/Egyptian_Mau_109.jpg'),Path('images/english_cocker_spaniel_52.jpg'),Path('images/Ragdoll_163.jpg'),Path('images/newfoundland_191.jpg'),Path('images/boxer_12.jpg'),Path('images/beagle_86.jpg'),Path('images/pomeranian_126.jpg')...]\n",
        "```\n",
        "\n"
      ],
      "metadata": {
        "id": "11SRO7evAJNZ"
      }
    },
    {
      "cell_type": "markdown",
      "source": [
        "Temos essa lista de imagens, precisamos extrair os nomes das racas, para isso vamos focar em utilizar Regex. Primeiro, criar um objeto teste de um item aleatorio da lista de imagens, para trabalhar em cima dele as expressoes regulares."
      ],
      "metadata": {
        "id": "VjBLvCEXITMn"
      }
    },
    {
      "cell_type": "code",
      "source": [
        "fname = (path/\"images\").ls()[0]\n",
        "\n",
        "re.findall(r'(.+)_\\d+.jpg$', fname.name)\n",
        "\n",
        "# (.+)_\\d+.jpg$ -> achar todos os characteres,\n",
        "#           até o ultimo \"_\" com os próximos caracteres sendo numericos + .jpg\n",
        "\n",
        "# logo, images/Maine_Coon_182.jpg ----> Maine_Coon"
      ],
      "metadata": {
        "colab": {
          "base_uri": "https://localhost:8080/"
        },
        "id": "Z3GMQkTwAPu8",
        "outputId": "afbe98f0-286b-463e-d9cb-71726d7ca046"
      },
      "execution_count": 9,
      "outputs": [
        {
          "output_type": "execute_result",
          "data": {
            "text/plain": [
              "['Maine_Coon']"
            ]
          },
          "metadata": {},
          "execution_count": 9
        }
      ]
    },
    {
      "cell_type": "markdown",
      "source": [
        "Agora, vamos criar um DataBlock, para aplicar o regex à todos as imagens e ter um dataloader com as labels adquiridas."
      ],
      "metadata": {
        "id": "il74hZxgW3wn"
      }
    },
    {
      "cell_type": "code",
      "source": [
        "petsBlock = DataBlock(blocks = (ImageBlock, CategoryBlock),\n",
        "                      get_items = get_image_files,\n",
        "                      splitter = RandomSplitter(seed = 42),\n",
        "                      get_y = using_attr(RegexLabeller(r'(.+)_\\d+.jpg$'), 'name'),\n",
        "                      item_tfms = Resize(460),\n",
        "                      batch_tfms = aug_transforms(size = 224, min_scale = 0.75))\n",
        "dls = petsBlock.dataloaders(path/\"images\")"
      ],
      "metadata": {
        "id": "wDWxMfjiJLAr"
      },
      "execution_count": 10,
      "outputs": []
    }
  ]
}