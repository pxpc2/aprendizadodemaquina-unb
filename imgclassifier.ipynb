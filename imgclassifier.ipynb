{
  "nbformat": 4,
  "nbformat_minor": 0,
  "metadata": {
    "colab": {
      "name": "imgclassifier.ipynb",
      "provenance": [],
      "collapsed_sections": []
    },
    "kernelspec": {
      "name": "python3",
      "display_name": "Python 3"
    },
    "language_info": {
      "name": "python"
    },
    "accelerator": "GPU",
    "gpuClass": "standard"
  },
  "cells": [
    {
      "cell_type": "markdown",
      "source": [
        "### Pedro Daia Cardoso\n",
        "\n",
        "Exercício de treinamento, modelo para distinguir entre a raca de diferentes animais"
      ],
      "metadata": {
        "id": "wf6UEag2-UJw"
      }
    },
    {
      "cell_type": "code",
      "execution_count": null,
      "metadata": {
        "id": "JBexiSS54wCd"
      },
      "outputs": [],
      "source": [
        "! [ -e /content ] && pip install -Uqq fastbook\n",
        "import fastbook\n",
        "fastbook.setup_book()\n",
        "from fastbook import *"
      ]
    },
    {
      "cell_type": "code",
      "source": [
        "from fastai.vision.all import *\n",
        "path = untar_data(URLs.PETS)"
      ],
      "metadata": {
        "id": "F4PSxCQp-Tgo"
      },
      "execution_count": null,
      "outputs": []
    },
    {
      "cell_type": "code",
      "source": [
        "Path.BASE_PATH = path\n",
        "(path/\"images\").ls()"
      ],
      "metadata": {
        "id": "fiiKPELA_YxL"
      },
      "execution_count": null,
      "outputs": []
    },
    {
      "cell_type": "markdown",
      "source": [
        "output:\n",
        "\n",
        "```\n",
        "(#7393) [Path('images/Maine_Coon_182.jpg'),Path('images/wheaten_terrier_57.jpg'),Path('images/leonberger_177.jpg'),Path('images/Egyptian_Mau_109.jpg'),Path('images/english_cocker_spaniel_52.jpg'),Path('images/Ragdoll_163.jpg'),Path('images/newfoundland_191.jpg'),Path('images/boxer_12.jpg'),Path('images/beagle_86.jpg'),Path('images/pomeranian_126.jpg')...]\n",
        "```\n",
        "\n"
      ],
      "metadata": {
        "id": "11SRO7evAJNZ"
      }
    },
    {
      "cell_type": "code",
      "source": [
        ""
      ],
      "metadata": {
        "id": "Z3GMQkTwAPu8"
      },
      "execution_count": null,
      "outputs": []
    }
  ]
}